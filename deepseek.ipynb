{
 "cells": [
  {
   "cell_type": "code",
   "execution_count": null,
   "metadata": {},
   "outputs": [],
   "source": []
  },
  {
   "cell_type": "code",
   "execution_count": null,
   "metadata": {},
   "outputs": [],
   "source": [
    "sk-d8b764cece9f4cc3805149b96428508a"
   ]
  },
  {
   "cell_type": "code",
   "execution_count": 2,
   "metadata": {},
   "outputs": [
    {
     "name": "stdout",
     "output_type": "stream",
     "text": [
      "Hello! How can I assist you today?\n"
     ]
    }
   ],
   "source": [
    "\n",
    "from openai import OpenAI\n",
    "\n",
    "client = OpenAI(api_key=\"sk-d8b764cece9f4cc3805149b96428508a\", base_url=\"https://api.deepseek.com\")\n",
    "\n",
    "response = client.chat.completions.create(\n",
    "    model=\"deepseek-reasoner\",\n",
    "    messages=[\n",
    "        {\"role\": \"system\", \"content\": \"You are a helpful assistant\"},\n",
    "        {\"role\": \"user\", \"content\": \"Hello\"},\n",
    "    ],\n",
    "    stream=False\n",
    ")\n",
    "\n",
    "print(response.choices[0].message.content)"
   ]
  },
  {
   "cell_type": "code",
   "execution_count": 2,
   "metadata": {},
   "outputs": [
    {
     "name": "stdout",
     "output_type": "stream",
     "text": [
      "思考过程：\n",
      "\n",
      "嗯，我现在要比较9.9和9.11这两个数的大小。一开始看起来这个问题好像挺简单的，但是因为我刚开始学数学，可能还有些细节要注意，所以我得仔细想一想，不能太快下结论。\n",
      "\n",
      "首先，我想，这两个数都是小数，小数点后面有不同的位数。左边的是9.9，右边的是9.11。小数比较的大小主要取决于小数点后的各位数字。这里可能会出现混淆，比如到底是不是可以直接看小数点后的数字，第一位还是第二位来决定大小呢？\n",
      "\n",
      "让我先回忆一下小数比较的规则。比如说，当比较两个小数的大小时，应该先比较整数部分。如果整数部分大的那个数就大。这里两者的整数部分都是9，所以一样。接下来要看小数部分，也就是小数点后面的数字。\n",
      "\n",
      "但问题在于，这两个数的小数部分位数不同：9.9 的小数点后有一位数字，而9.11有两位。怎么正确地比较这两个小数呢？\n",
      "\n",
      "首先，可能有一个常见的误解，就是直接比较小数点后的数字，例如，有人可能会觉得，9.9的小数部分是9，而9.11的小数部分是11，那么可能会误以为9.11更大，因为11比9大。但是这样的比较是错误的，因为这实际上是不同的数位。应该将小数位数对齐，或者转换成同一数位的分数来比较。\n",
      "\n",
      "另一个方法是，把这两个小数写成相同位数的小数，这样比较起来更直观。例如，把9.9写成9.90，这时候小数点后有两位，变成9.90和9.11。这时候比较小数点后的部分的话，90和11。但这里需要注意，这里的十位数是第一位小数，个位数是第二位小数，对吗？\n",
      "\n",
      "因为对于9.90来说，第一位小数是9，第二位是0，而9.11的第一位小数是1，第二位是1。这样在比较的时候，应该首先比较第一位小数，也就是十分位上的数字。9.90的十分位是9，而9.11的十分位是1。既然十分位的9比1大，那不管十分位后面的数字是多少，9.90都比9.11大，对吗？\n",
      "\n",
      "所以这样的话，原本的9.9相当于9.90，也就是9.90，所以比9.11大，对吗？\n",
      "\n",
      "等一下，这个是不是有道理？或者我应该用其他方法验证一下？\n",
      "\n",
      "比如，将这两个小数转换成分数。这样可能更清楚。\n",
      "\n",
      "9.9可以写成9又9/10，也就是（9×10 +9）/10=99/10=9.9。\n",
      "\n",
      "而9.11可以写成9又11/100，也就是（9×100 +11）/100=911/100=9.11。\n",
      "\n",
      "现在，比较这两个分数的大小：99/10和911/100。\n",
      "\n",
      "为了比较这两个分数，通常的方法是把它们通分，使分母相同，或者转换成小数进行比较。\n",
      "\n",
      "首先，把99/10转换成百分数的话，就是分母变成100，也就是乘以10/10，变成990/100，大概是9.90。然后比较的话，990/100和911/100，显然990比911大，所以990/100（也就是9.90）大于911/100（也就是9.11），因此9.9大于9.11。\n",
      "\n",
      "但另外一个小数写法，把9.9写成9.90的话，那就显而易见了，因为比较的时候整数部分相同，所以比较小数部分的各个位数。\n",
      "\n",
      "首先比较十分位，9.90的十分位是9，而9.11的十分位是1。9比1大，所以不管后面的百分位数是什么，9.90都比9.11大。\n",
      "\n",
      "所以不管怎么样，都是9.9大。\n",
      "\n",
      "不过，我要确认一下这样的方法正确吗？\n",
      "\n",
      "另一个思考方法是，真正的数值。比如说，假设有人民币的单位，9.9元就是九元九角，而9.11元则是九元一角一分。两者相比的话，九角和一角相比，显然是九角更大，因此九元九角比九元一角一分多，对吗？这种日常生活中的例子可以帮助记忆。\n",
      "\n",
      "所以在这种情况下，9.9元（9元9角）确实比9.11元（9元1角1分）更大。\n",
      "\n",
      "这说明在比较小数的时候，十分位上的数字比百分位上的数字更加重要。也就是第一位小数相当于是更高的位，所以当比较时，第一位小数的数值大小直接决定了整个小数的大小，而如果第一位小数相同的话，再比较第二位小数，依此类推。\n",
      "\n",
      "回到题目，所以无论是在分数的比较还是在小数位的逐位比较中，都是9.9更大。正确的做法，首先将小数位对齐，转化为两位小数，变成9.90和9.11，这时候比较第一位小数：90中的9还是11中的1？不，应该是一一对应的依次比较每一位。即小数点后的第一位是十分位，第二位是百分位，那么先比较小数点后的第一位。\n",
      "\n",
      "比如：\n",
      "\n",
      "9.9 = 9.90\n",
      "\n",
      "位数对齐的话：\n",
      "\n",
      "9.90\n",
      "\n",
      "9.11\n",
      "\n",
      "比较整数部分：都是9，相等。\n",
      "\n",
      "十分位比较：第一个数的十分位是9，第二个数是1，因此9比1大，所以此时9.90 > 9.11，所以9.9 > 9.11。\n",
      "\n",
      "因此，结论应该是9.9大于9.11。\n",
      "\n",
      "这应该是正确的，对吧？\n",
      "\n",
      "不过为了确认，我可以再用另一种方法计算，比如计算它们的差值。\n",
      "\n",
      "9.9 - 9.11 = ?\n",
      "\n",
      "这里如果口算的话，可能会有计算错误的风险，所以一定要仔细。\n",
      "\n",
      "把9.9看成9.90，\n",
      "\n",
      "9.90 - 9.11 =\n",
      "\n",
      "减法的竖式：\n",
      "\n",
      "9.90\n",
      "\n",
      "-9.11\n",
      "\n",
      "--------\n",
      "\n",
      "从右边开始：\n",
      "\n",
      "0 - 1：不够减，向十分位借1，变成10 -1=9，但十分位本来是0，所以需要向个位借，但个位是9，这时候可能也会容易出错。让我分步思考。\n",
      "\n",
      "但其实，这里应该这样减：\n",
      "\n",
      "百分位：0 -1，不够，向十分位借1，但十分位是9，借1后变成8，此时百分位的计算是10 -1=9。\n",
      "\n",
      "十分位此时被借了1，因此原本是9变成8，所以现在十分位是8，对应的计算是8 -1=7。\n",
      "\n",
      "个位数是9 -9=0，因此结果是0.79。\n",
      "\n",
      "所以差值是0.79，也就是说，9.9 -9.11=0.79>0，因此说明9.9比9.11大0.79，自然9.9更大。\n",
      "\n",
      "综上，无论用对齐小数位的方法，转换成分数的方法，还是用减法计算差值的方法，结果都是9.9大于9.11。这时候应该可以确定答案是9.9大。\n",
      "\n",
      "不过一开始自己可能有误区，比如，把小数点后面的部分当作整数来比较，就像比较9和11，认为11更大，因此错误地得出9.11更大的结论。不过实际上小数部分的每一位都有不同的权重，十分位比重比百分位高，因此在这种情况下比较的是不同位的数字。\n",
      "\n",
      "另一个验证的例子，例如，9.1和9.09，几乎同样的情况，应该是9.1更大，因为其十分位的1大于0，尽管9.09的百分位是9，但依然还是比不过9.1的十分位是1的情况。所以这一类的例子都能说明只要高位数的数字更大，不管后面的数字如何，这个数就更大。\n",
      "\n",
      "所以，最终结论是9.9比9.11大。\n",
      "\n",
      "最终答案：\n",
      "9.9大于9.11。\n",
      "\n",
      "**步骤解析：**\n",
      "\n",
      "1. **对齐小数位**：  \n",
      "   将9.9写成9.90，使其与9.11的小数位数相同。\n",
      "\n",
      "2. **逐位比较**：  \n",
      "   - 整数部分均为9，相等。  \n",
      "   - 比较十分位：9.90的十分位是**9**，而9.11的十分位是**1**。  \n",
      "   - 由于`9 > 1`，无论百分位数值如何，9.90已大于9.11。\n",
      "\n",
      "3. **验证方法**：  \n",
      "   - **分数转换**：  \n",
      "     - 9.9 = 990/100，9.11 = 911/100。  \n",
      "     - 显然`990/100 > 911/100`。\n",
      "   - **差值计算**：  \n",
      "     - `9.90 - 9.11 = 0.79 > 0`，说明9.9更大。\n",
      "\n",
      "**结论**：通过多种方法验证，9.9确实大于9.11。**所以9.9更大**。\n"
     ]
    }
   ],
   "source": [
    "import os\n",
    "from openai import OpenAI\n",
    "\n",
    "client = OpenAI(\n",
    "    # 若没有配置环境变量，请用百炼API Key将下行替换为：api_key=\"sk-xxx\",\n",
    "    api_key='sk-4d336f13dfec4e9ebf4a6cb372fee73c', # 如何获取API Key：https://help.aliyun.com/zh/model-studio/developer-reference/get-api-key\n",
    "    base_url=\"https://dashscope.aliyuncs.com/compatible-mode/v1\",\n",
    ")\n",
    "\n",
    "completion = client.chat.completions.create(\n",
    "    model=\"deepseek-r1\",  # 此处以 deepseek-r1 为例，可按需更换模型名称。\n",
    "    messages=[\n",
    "        {'role': 'user', 'content': '9.9和9.11谁大'}\n",
    "        ]\n",
    ")\n",
    "\n",
    "# 通过reasoning_content字段打印思考过程\n",
    "print(\"思考过程：\")\n",
    "print(completion.choices[0].message.reasoning_content)\n",
    "# 通过content字段打印最终答案\n",
    "print(\"最终答案：\")\n",
    "print(completion.choices[0].message.content)"
   ]
  },
  {
   "cell_type": "code",
   "execution_count": 4,
   "metadata": {},
   "outputs": [
    {
     "data": {
      "text/plain": [
       "ChatCompletion(id='c6170638-1b17-47ae-9214-ee2086e989e4', choices=[Choice(finish_reason='stop', index=0, logprobs=None, message=ChatCompletionMessage(content='Hello! How can I assist you today?', refusal=None, role='assistant', audio=None, function_call=None, tool_calls=None, reasoning_content='Okay, the user sent \"Hello\". That\\'s a friendly greeting. I should respond in a welcoming manner. Maybe say something like, \"Hello! How can I assist you today?\" to invite them to ask for help. Keep it open and approachable. Avoid being too formal. Make sure the tone is positive and ready to help with whatever they need next.'))], created=1738861774, model='deepseek-reasoner', object='chat.completion', service_tier=None, system_fingerprint='fp_7e73fd9a08', usage=CompletionUsage(completion_tokens=84, prompt_tokens=12, total_tokens=96, completion_tokens_details=CompletionTokensDetails(accepted_prediction_tokens=None, audio_tokens=None, reasoning_tokens=73, rejected_prediction_tokens=None), prompt_tokens_details=PromptTokensDetails(audio_tokens=None, cached_tokens=0), prompt_cache_hit_tokens=0, prompt_cache_miss_tokens=12))"
      ]
     },
     "execution_count": 4,
     "metadata": {},
     "output_type": "execute_result"
    }
   ],
   "source": [
    "response"
   ]
  }
 ],
 "metadata": {
  "kernelspec": {
   "display_name": "base",
   "language": "python",
   "name": "python3"
  },
  "language_info": {
   "codemirror_mode": {
    "name": "ipython",
    "version": 3
   },
   "file_extension": ".py",
   "mimetype": "text/x-python",
   "name": "python",
   "nbconvert_exporter": "python",
   "pygments_lexer": "ipython3",
   "version": "3.12.2"
  }
 },
 "nbformat": 4,
 "nbformat_minor": 2
}
