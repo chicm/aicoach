{
 "cells": [
  {
   "cell_type": "code",
   "execution_count": 2,
   "metadata": {},
   "outputs": [
    {
     "name": "stdout",
     "output_type": "stream",
     "text": [
      " get response: {\"status_code\": 200, \"request_id\": \"517d62894a3240b1b8e01ee2d728fb50\", \"code\": \"\", \"message\": \"\", \"output\": null, \"usage\": {\"characters\": 15}}\n"
     ]
    }
   ],
   "source": [
    "import dashscope\n",
    "from dashscope.audio.tts import SpeechSynthesizer\n",
    "\n",
    "# 若没有将API Key配置到环境变量中，需将下面这行代码注释放开，并将apiKey替换为自己的API Key\n",
    "dashscope.api_key = 'sk-4d336f13dfec4e9ebf4a6cb372fee73c' #\"apiKey\"\n",
    "result = SpeechSynthesizer.call(model='sambert-zhichu-v1',\n",
    "                                # 当text内容的语种发生变化时，请确认model是否匹配。不同model支持不同的语种，详情请参见Sambert音色列表中的“语言”列。\n",
    "                                text='今天天气怎么样, 今天天气不错',\n",
    "                                sample_rate=48000,\n",
    "                                format='wav')\n",
    "\n",
    "if result.get_audio_data() is not None:\n",
    "    with open('output.wav', 'wb') as f:\n",
    "        f.write(result.get_audio_data())\n",
    "print(' get response: %s' % (result.get_response()))"
   ]
  },
  {
   "cell_type": "code",
   "execution_count": 9,
   "metadata": {},
   "outputs": [
    {
     "name": "stdout",
     "output_type": "stream",
     "text": [
      "Speech synthesizer is opened.\n",
      "audio result length: 8033\n",
      "audio result length: 8033\n",
      "audio result length: 8033\n",
      "audio result length: 8033\n",
      "audio result length: 8033\n",
      "audio result length: 8033\n",
      "audio result length: 8033\n",
      "audio result length: 8033\n",
      "audio result length: 8033\n",
      "audio result length: 4033\n",
      "audio result length: 8033\n",
      "audio result length: 8033\n",
      "audio result length: 8033\n",
      "audio result length: 8033\n",
      "audio result length: 5033\n",
      "Speech synthesizer is completed.\n",
      "Speech synthesizer is closed.\n"
     ]
    },
    {
     "data": {
      "text/plain": [
       "<dashscope.audio.tts.speech_synthesizer.SpeechSynthesisResult at 0x2a28a599190>"
      ]
     },
     "execution_count": 9,
     "metadata": {},
     "output_type": "execute_result"
    }
   ],
   "source": [
    "# coding=utf-8\n",
    "#\n",
    "# Installation instructions for pyaudio:\n",
    "# APPLE Mac OS X\n",
    "#   brew install portaudio\n",
    "#   pip install pyaudio\n",
    "# Debian/Ubuntu\n",
    "#   sudo apt-get install python-pyaudio python3-pyaudio\n",
    "#   or\n",
    "#   pip install pyaudio\n",
    "# CentOS\n",
    "#   sudo yum install -y portaudio portaudio-devel && pip install pyaudio\n",
    "# Microsoft Windows\n",
    "#   python -m pip install pyaudio\n",
    "\n",
    "import dashscope\n",
    "import sys\n",
    "import pyaudio\n",
    "from dashscope.api_entities.dashscope_response import SpeechSynthesisResponse\n",
    "from dashscope.audio.tts import ResultCallback, SpeechSynthesizer, SpeechSynthesisResult\n",
    "\n",
    "# 若没有将API Key配置到环境变量中，需将下面这行代码注释放开，并将apiKey替换为自己的API Key\n",
    "# dashscope.api_key = \"apiKey\"\n",
    "dashscope.api_key = 'sk-4d336f13dfec4e9ebf4a6cb372fee73c'\n",
    "\n",
    "class Callback(ResultCallback):\n",
    "    _player = None\n",
    "    _stream = None\n",
    "\n",
    "    def on_open(self):\n",
    "        print('Speech synthesizer is opened.')\n",
    "        self._player = pyaudio.PyAudio()\n",
    "        self._stream = self._player.open(\n",
    "            format=pyaudio.paInt16,\n",
    "            channels=1,\n",
    "            rate=48000,\n",
    "            output=True)\n",
    "\n",
    "    def on_complete(self):\n",
    "        print('Speech synthesizer is completed.')\n",
    "\n",
    "    def on_error(self, response: SpeechSynthesisResponse):\n",
    "        print('Speech synthesizer failed, response is %s' % (str(response)))\n",
    "\n",
    "    def on_close(self):\n",
    "        print('Speech synthesizer is closed.')\n",
    "        self._stream.stop_stream()\n",
    "        self._stream.close()\n",
    "        self._player.terminate()\n",
    "\n",
    "    def on_event(self, result: SpeechSynthesisResult):\n",
    "        if result.get_audio_frame() is not None:\n",
    "            print('audio result length:', sys.getsizeof(result.get_audio_frame()))\n",
    "            self._stream.write(result.get_audio_frame())\n",
    "\n",
    "        if result.get_timestamp() is not None:\n",
    "            print('timestamp result:', str(result.get_timestamp()))\n",
    "\n",
    "callback = Callback()\n",
    "SpeechSynthesizer.call(model='sambert-zhichu-v1',\n",
    "                       text='今天天气怎么样',\n",
    "                       sample_rate=48000,\n",
    "                       format='pcm',\n",
    "                       rate=1.2,\n",
    "                       callback=callback)"
   ]
  }
 ],
 "metadata": {
  "kernelspec": {
   "display_name": "base",
   "language": "python",
   "name": "python3"
  },
  "language_info": {
   "codemirror_mode": {
    "name": "ipython",
    "version": 3
   },
   "file_extension": ".py",
   "mimetype": "text/x-python",
   "name": "python",
   "nbconvert_exporter": "python",
   "pygments_lexer": "ipython3",
   "version": "3.12.7"
  }
 },
 "nbformat": 4,
 "nbformat_minor": 2
}
